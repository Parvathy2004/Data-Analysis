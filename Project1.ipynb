{
 "cells": [
  {
   "cell_type": "markdown",
   "id": "98902561",
   "metadata": {},
   "source": [
    "## creating dataframe "
   ]
  },
  {
   "cell_type": "code",
   "execution_count": 50,
   "id": "a15549da",
   "metadata": {},
   "outputs": [
    {
     "data": {
      "text/html": [
       "<div>\n",
       "<style scoped>\n",
       "    .dataframe tbody tr th:only-of-type {\n",
       "        vertical-align: middle;\n",
       "    }\n",
       "\n",
       "    .dataframe tbody tr th {\n",
       "        vertical-align: top;\n",
       "    }\n",
       "\n",
       "    .dataframe thead th {\n",
       "        text-align: right;\n",
       "    }\n",
       "</style>\n",
       "<table border=\"1\" class=\"dataframe\">\n",
       "  <thead>\n",
       "    <tr style=\"text-align: right;\">\n",
       "      <th></th>\n",
       "      <th>Name</th>\n",
       "      <th>Branch</th>\n",
       "      <th>Year</th>\n",
       "      <th>CGPA</th>\n",
       "    </tr>\n",
       "  </thead>\n",
       "  <tbody>\n",
       "    <tr>\n",
       "      <th>0</th>\n",
       "      <td>Nikhil</td>\n",
       "      <td>CSE</td>\n",
       "      <td>2</td>\n",
       "      <td>9.0</td>\n",
       "    </tr>\n",
       "    <tr>\n",
       "      <th>1</th>\n",
       "      <td>Sanchit</td>\n",
       "      <td>CSE</td>\n",
       "      <td>2</td>\n",
       "      <td>9.1</td>\n",
       "    </tr>\n",
       "    <tr>\n",
       "      <th>2</th>\n",
       "      <td>Aditya</td>\n",
       "      <td>IT</td>\n",
       "      <td>2</td>\n",
       "      <td>9.3</td>\n",
       "    </tr>\n",
       "    <tr>\n",
       "      <th>3</th>\n",
       "      <td>Sagar</td>\n",
       "      <td>IT</td>\n",
       "      <td>1</td>\n",
       "      <td>9.5</td>\n",
       "    </tr>\n",
       "  </tbody>\n",
       "</table>\n",
       "</div>"
      ],
      "text/plain": [
       "      Name Branch  Year  CGPA\n",
       "0   Nikhil    CSE     2   9.0\n",
       "1  Sanchit    CSE     2   9.1\n",
       "2   Aditya     IT     2   9.3\n",
       "3    Sagar     IT     1   9.5"
      ]
     },
     "execution_count": 50,
     "metadata": {},
     "output_type": "execute_result"
    }
   ],
   "source": [
    "import pandas as pd\n",
    "\n",
    "# Define the data\n",
    "data = {\n",
    "    'Name': ['Nikhil', 'Sanchit', 'Aditya', 'Sagar'],\n",
    "    'Branch': ['CSE', 'CSE', 'IT', 'IT'],\n",
    "    'Year': [2, 2, 2, 1],\n",
    "    'CGPA': [9.0, 9.1, 9.3, 9.5]\n",
    "}\n",
    "\n",
    "# Create a DataFrame\n",
    "df = pd.DataFrame(data)\n",
    "df"
   ]
  },
  {
   "cell_type": "markdown",
   "id": "cb18c784",
   "metadata": {},
   "source": [
    "## To find the average CGPA of the students"
   ]
  },
  {
   "cell_type": "code",
   "execution_count": 58,
   "id": "ead725dc",
   "metadata": {},
   "outputs": [
    {
     "name": "stdout",
     "output_type": "stream",
     "text": [
      "Avareage of CGPA's is\n"
     ]
    },
    {
     "data": {
      "text/plain": [
       "9.225000000000001"
      ]
     },
     "execution_count": 58,
     "metadata": {},
     "output_type": "execute_result"
    }
   ],
   "source": [
    "\n",
    "avg_df = df['CGPA'].mean()\n",
    "print(\"Avareage of CGPA's is\")\n",
    "avg_df"
   ]
  },
  {
   "cell_type": "markdown",
   "id": "c9ae7b7f",
   "metadata": {},
   "source": [
    "## To display the details of all students having CGPA > 9"
   ]
  },
  {
   "cell_type": "code",
   "execution_count": 54,
   "id": "83e604aa",
   "metadata": {},
   "outputs": [
    {
     "name": "stdout",
     "output_type": "stream",
     "text": [
      "Students with CGPA > 9:\n"
     ]
    },
    {
     "data": {
      "text/html": [
       "<div>\n",
       "<style scoped>\n",
       "    .dataframe tbody tr th:only-of-type {\n",
       "        vertical-align: middle;\n",
       "    }\n",
       "\n",
       "    .dataframe tbody tr th {\n",
       "        vertical-align: top;\n",
       "    }\n",
       "\n",
       "    .dataframe thead th {\n",
       "        text-align: right;\n",
       "    }\n",
       "</style>\n",
       "<table border=\"1\" class=\"dataframe\">\n",
       "  <thead>\n",
       "    <tr style=\"text-align: right;\">\n",
       "      <th></th>\n",
       "      <th>Name</th>\n",
       "      <th>Branch</th>\n",
       "      <th>Year</th>\n",
       "      <th>CGPA</th>\n",
       "    </tr>\n",
       "  </thead>\n",
       "  <tbody>\n",
       "    <tr>\n",
       "      <th>1</th>\n",
       "      <td>Sanchit</td>\n",
       "      <td>CSE</td>\n",
       "      <td>2</td>\n",
       "      <td>9.1</td>\n",
       "    </tr>\n",
       "    <tr>\n",
       "      <th>2</th>\n",
       "      <td>Aditya</td>\n",
       "      <td>IT</td>\n",
       "      <td>2</td>\n",
       "      <td>9.3</td>\n",
       "    </tr>\n",
       "    <tr>\n",
       "      <th>3</th>\n",
       "      <td>Sagar</td>\n",
       "      <td>IT</td>\n",
       "      <td>1</td>\n",
       "      <td>9.5</td>\n",
       "    </tr>\n",
       "  </tbody>\n",
       "</table>\n",
       "</div>"
      ],
      "text/plain": [
       "      Name Branch  Year  CGPA\n",
       "1  Sanchit    CSE     2   9.1\n",
       "2   Aditya     IT     2   9.3\n",
       "3    Sagar     IT     1   9.5"
      ]
     },
     "execution_count": 54,
     "metadata": {},
     "output_type": "execute_result"
    }
   ],
   "source": [
    "high_cgpa_students = df[df['CGPA'] > 9]\n",
    "print(\"Students with CGPA > 9:\")\n",
    "high_cgpa_students"
   ]
  },
  {
   "cell_type": "markdown",
   "id": "b3b05421",
   "metadata": {},
   "source": [
    "## To display the details of all CSE students with CGPA > 9"
   ]
  },
  {
   "cell_type": "code",
   "execution_count": 55,
   "id": "88aaee64",
   "metadata": {},
   "outputs": [
    {
     "name": "stdout",
     "output_type": "stream",
     "text": [
      "CSE Students with CGPA > 9:\n"
     ]
    },
    {
     "data": {
      "text/html": [
       "<div>\n",
       "<style scoped>\n",
       "    .dataframe tbody tr th:only-of-type {\n",
       "        vertical-align: middle;\n",
       "    }\n",
       "\n",
       "    .dataframe tbody tr th {\n",
       "        vertical-align: top;\n",
       "    }\n",
       "\n",
       "    .dataframe thead th {\n",
       "        text-align: right;\n",
       "    }\n",
       "</style>\n",
       "<table border=\"1\" class=\"dataframe\">\n",
       "  <thead>\n",
       "    <tr style=\"text-align: right;\">\n",
       "      <th></th>\n",
       "      <th>Name</th>\n",
       "      <th>Branch</th>\n",
       "      <th>Year</th>\n",
       "      <th>CGPA</th>\n",
       "    </tr>\n",
       "  </thead>\n",
       "  <tbody>\n",
       "    <tr>\n",
       "      <th>1</th>\n",
       "      <td>Sanchit</td>\n",
       "      <td>CSE</td>\n",
       "      <td>2</td>\n",
       "      <td>9.1</td>\n",
       "    </tr>\n",
       "  </tbody>\n",
       "</table>\n",
       "</div>"
      ],
      "text/plain": [
       "      Name Branch  Year  CGPA\n",
       "1  Sanchit    CSE     2   9.1"
      ]
     },
     "execution_count": 55,
     "metadata": {},
     "output_type": "execute_result"
    }
   ],
   "source": [
    "cse_high_cgpa_students = df[(df['Branch'] == 'CSE') & (df['CGPA'] > 9)]\n",
    "print(\"CSE Students with CGPA > 9:\")\n",
    "cse_high_cgpa_students"
   ]
  },
  {
   "cell_type": "markdown",
   "id": "1defb5f4",
   "metadata": {},
   "source": [
    "## To display the details of student with maximum CGPA"
   ]
  },
  {
   "cell_type": "code",
   "execution_count": 56,
   "id": "357e3447",
   "metadata": {},
   "outputs": [
    {
     "name": "stdout",
     "output_type": "stream",
     "text": [
      "Student(s) with maximum CGPA:\n"
     ]
    },
    {
     "data": {
      "text/html": [
       "<div>\n",
       "<style scoped>\n",
       "    .dataframe tbody tr th:only-of-type {\n",
       "        vertical-align: middle;\n",
       "    }\n",
       "\n",
       "    .dataframe tbody tr th {\n",
       "        vertical-align: top;\n",
       "    }\n",
       "\n",
       "    .dataframe thead th {\n",
       "        text-align: right;\n",
       "    }\n",
       "</style>\n",
       "<table border=\"1\" class=\"dataframe\">\n",
       "  <thead>\n",
       "    <tr style=\"text-align: right;\">\n",
       "      <th></th>\n",
       "      <th>Name</th>\n",
       "      <th>Branch</th>\n",
       "      <th>Year</th>\n",
       "      <th>CGPA</th>\n",
       "    </tr>\n",
       "  </thead>\n",
       "  <tbody>\n",
       "    <tr>\n",
       "      <th>3</th>\n",
       "      <td>Sagar</td>\n",
       "      <td>IT</td>\n",
       "      <td>1</td>\n",
       "      <td>9.5</td>\n",
       "    </tr>\n",
       "  </tbody>\n",
       "</table>\n",
       "</div>"
      ],
      "text/plain": [
       "    Name Branch  Year  CGPA\n",
       "3  Sagar     IT     1   9.5"
      ]
     },
     "execution_count": 56,
     "metadata": {},
     "output_type": "execute_result"
    }
   ],
   "source": [
    "max_cgpa_student = df[df['CGPA'] == df['CGPA'].max()]\n",
    "print(\"Student(s) with maximum CGPA:\")\n",
    "max_cgpa_student"
   ]
  },
  {
   "cell_type": "markdown",
   "id": "86514053",
   "metadata": {},
   "source": [
    "## To display average CGPA of each branch "
   ]
  },
  {
   "cell_type": "code",
   "execution_count": 57,
   "id": "7bd99991",
   "metadata": {},
   "outputs": [
    {
     "name": "stdout",
     "output_type": "stream",
     "text": [
      "Average CGPA of each branch:\n"
     ]
    },
    {
     "data": {
      "text/html": [
       "<div>\n",
       "<style scoped>\n",
       "    .dataframe tbody tr th:only-of-type {\n",
       "        vertical-align: middle;\n",
       "    }\n",
       "\n",
       "    .dataframe tbody tr th {\n",
       "        vertical-align: top;\n",
       "    }\n",
       "\n",
       "    .dataframe thead th {\n",
       "        text-align: right;\n",
       "    }\n",
       "</style>\n",
       "<table border=\"1\" class=\"dataframe\">\n",
       "  <thead>\n",
       "    <tr style=\"text-align: right;\">\n",
       "      <th></th>\n",
       "      <th>Branch</th>\n",
       "      <th>CGPA</th>\n",
       "    </tr>\n",
       "  </thead>\n",
       "  <tbody>\n",
       "    <tr>\n",
       "      <th>0</th>\n",
       "      <td>CSE</td>\n",
       "      <td>9.05</td>\n",
       "    </tr>\n",
       "    <tr>\n",
       "      <th>1</th>\n",
       "      <td>IT</td>\n",
       "      <td>9.40</td>\n",
       "    </tr>\n",
       "  </tbody>\n",
       "</table>\n",
       "</div>"
      ],
      "text/plain": [
       "  Branch  CGPA\n",
       "0    CSE  9.05\n",
       "1     IT  9.40"
      ]
     },
     "execution_count": 57,
     "metadata": {},
     "output_type": "execute_result"
    }
   ],
   "source": [
    "average_cgpa_per_branch = df.groupby('Branch')['CGPA'].mean().reset_index()\n",
    "print(\"Average CGPA of each branch:\")\n",
    "average_cgpa_per_branch"
   ]
  },
  {
   "cell_type": "code",
   "execution_count": null,
   "id": "760f1871",
   "metadata": {},
   "outputs": [],
   "source": []
  }
 ],
 "metadata": {
  "kernelspec": {
   "display_name": "Python 3 (ipykernel)",
   "language": "python",
   "name": "python3"
  },
  "language_info": {
   "codemirror_mode": {
    "name": "ipython",
    "version": 3
   },
   "file_extension": ".py",
   "mimetype": "text/x-python",
   "name": "python",
   "nbconvert_exporter": "python",
   "pygments_lexer": "ipython3",
   "version": "3.9.13"
  }
 },
 "nbformat": 4,
 "nbformat_minor": 5
}
